{
 "cells": [
  {
   "cell_type": "code",
   "execution_count": 4,
   "metadata": {
    "collapsed": true
   },
   "outputs": [],
   "source": [
    "import requests\n",
    "import json\n",
    "from pprint import pprint\n",
    "import os\n",
    "import re\n",
    "debug = False"
   ]
  },
  {
   "cell_type": "code",
   "execution_count": 5,
   "metadata": {
    "collapsed": true
   },
   "outputs": [],
   "source": [
    "class BitportBlob(object):\n",
    "    '''\n",
    "    The main object.  Has all your bitport items which are also objects (BitportDirs and BitportFiles)\n",
    "    '''\n",
    "    instance_names = []  \n",
    "\n",
    "    def __init__(self, name):\n",
    "        self.name = name\n",
    "        BitportBlob.instance_names.append(self.name)\n",
    "        self.obj_list = []\n",
    "        self.auth_tok = ''\n",
    "        self.me_info = {}\n",
    "        self.all_bpf_objects = {}\n",
    "        self.dirs = []\n",
    "        self.files_to_download = []\n",
    "        \n"
   ]
  },
  {
   "cell_type": "code",
   "execution_count": 6,
   "metadata": {
    "collapsed": true
   },
   "outputs": [],
   "source": [
    "class BitportDir(object):\n",
    "    '''\n",
    "    One bitport directory.\n",
    "    '''\n",
    "    instance_names = []\n",
    "\n",
    "    def __init__(self, name):\n",
    "        self.name = name\n",
    "        BitportDir.instance_names.append(self.name)\n",
    "        self.dictoid = {}\n",
    "        #self.date = ''\n",
    "        #self.name = ''\n",
    "        #self.count = 0\n",
    "        self.flist = []\n",
    "        self.fact = ''\n"
   ]
  },
  {
   "cell_type": "code",
   "execution_count": 7,
   "metadata": {
    "collapsed": true
   },
   "outputs": [],
   "source": [
    "def get_secrets_from_file(bitport_dot_file = ''):\n",
    "    '''\n",
    "    Keep secret stuff in a .bitport file rather than embedded in the code.\n",
    "    This utility reads the file and returns a dict.  (or else creates the file.)\n",
    "    One arg: bitport_dot_file is optional, and defaults to ~/.bitport\n",
    "    '''\n",
    "    \n",
    "    \n",
    "    # File should contain what dummy_file_content contains (but with real info instead of <..GOES_HERE> stuff)\n",
    "    dummy_file_content = {\n",
    "      \"client_id\":\"<CLIENT_ID_GOES_HERE>\",\n",
    "      \"client_secret\": \"<CLIENT_SECRET_GOES_HERE>\",\n",
    "      \"code\": \"<CODE_GOES_HERE>\"\n",
    "    } \n",
    "    \n",
    "    if bitport_dot_file == '':\n",
    "        home_dir_path = os.path.expanduser('~')\n",
    "        bitport_dot_file = home_dir_path + '/.bitport'\n",
    "    \n",
    "    if os.path.isfile(bitport_dot_file):\n",
    "        if debug: print ('File {} already exists, reading...'.format(bitport_dot_file))\n",
    "        \n",
    "\n",
    "        try:\n",
    "            with open(bitport_dot_file,  'r') as fh:                                                             \n",
    "                mystuff = json.load(fh)  \n",
    "\n",
    "            if debug: print(\"FOUND FILE CONTENTS: [[[{}]]]\".format(mystuff))\n",
    "        except:\n",
    "            print('UHHHhhhh, problem with file ', bitport_dot_file, ' game over.')\n",
    "            \n",
    "            \n",
    "        if re.search (r'_GOES_HERE>', mystuff['code']):\n",
    "            print('Did you forget to edit the file {} ?\\n Exiting!'.format(bitport_dot_file))\n",
    "            exit('Game over')\n",
    "\n",
    "        return mystuff\n",
    "\n",
    "            \n",
    "    else:\n",
    "        print ('File {} not found.   Creating....'.format(bitport_dot_file))\n",
    "        print ('You must go edit the file: {}'.format(bitport_dot_file))\n",
    "        exit('Game over!')\n",
    "\n",
    "        with open(bitport_dot_file, 'w') as fh:                                                             \n",
    "            json.dump(dummy_file_content, fh)    \n",
    "            \n",
    "\n",
    "        return False\n",
    "            "
   ]
  },
  {
   "cell_type": "code",
   "execution_count": 8,
   "metadata": {
    "collapsed": false
   },
   "outputs": [],
   "source": [
    "def find_object(field, object_list):\n",
    "    '''\n",
    "    Check 'object_list' to see if an object with a 'name' attribute equal to 'field' exists, return it if so.\n",
    "    '''\n",
    "    \n",
    "    for item in object_list:\n",
    "        if item.name == field:\n",
    "            return item\n",
    "    return None\n",
    "\n"
   ]
  },
  {
   "cell_type": "code",
   "execution_count": 9,
   "metadata": {
    "collapsed": true
   },
   "outputs": [],
   "source": [
    "def get_auth_tok(url='https://api.bitport.io/v2/oauth2/access-token'):\n",
    "    '''\n",
    "    This method does a POST to http://bitport.io/get-access to obtain the 'code' (a.k.a. USER_CODE), \n",
    "    per the Bitport doc, \"thanks to which you can get access_token\" [sic]. \n",
    "\n",
    "    Beware that the 'code' seems to change occasionally, but the old one still works. So, it may be that\n",
    "    a human needs to be logged in to a browser and hit the ./get-access site to get a new one occasionally.\n",
    "\n",
    "    The requests.post below should yield a blob containing 3 items;\n",
    "    token_type\":\"Bearer\",\"expires_in\":157766399,\"access_token\":\"eyJ0eXAiOiJKV1QiLCJhbGciO....\"\n",
    "    \n",
    "    We ony care about, (and therefore only return), the 'access_token' item.  Once we have the access_token\n",
    "    we can make API calls to do useful stuff on the Bitport site.\n",
    "    \n",
    "    For more information see the (very terse) Bitport documentation available here: https://bitport.io/api\n",
    "\n",
    "    '''\n",
    "    \n",
    "   \n",
    "    \n",
    "    dict1 = get_secrets_from_file()\n",
    "\n",
    "    payload = {'type': 'application/x-www-form-urlencoded', \n",
    "               'client_id':'?', \n",
    "               'client_secret': '?', \n",
    "               'grant_type': 'code', \n",
    "               'code': '?'} \n",
    "    \n",
    "    # We read those things from a file for a reason, they are needed in the payload;\n",
    "    # We keep them out of the distro / git repo.   They are secrets!\n",
    "    payload['client_id']     = dict1['client_id']\n",
    "    payload['client_secret'] = dict1['client_secret']\n",
    "    payload['code']          = dict1['code']\n",
    "\n",
    "    if debug: print('Payload is \\n'), pprint(payload)\n",
    "    \n",
    "    \n",
    "    r = requests.post(url, data=payload)\n",
    "    if ( r.status_code != 200 ):\n",
    "        print(\"\\n\\nPOST was a FAILURE!!   status_code = : \", r.status_code, \"\\n\\n\")\n",
    "        return False\n",
    "    else:\n",
    "        resp = json.loads(r.text)\n",
    "        return resp['access_token']\n",
    "\n",
    "  "
   ]
  },
  {
   "cell_type": "code",
   "execution_count": 10,
   "metadata": {
    "collapsed": true
   },
   "outputs": [],
   "source": [
    "def jsonify_req_obj(robj):\n",
    "    import json\n",
    "    rt = json.loads(robj.text)\n",
    "\n",
    "    return rt"
   ]
  },
  {
   "cell_type": "code",
   "execution_count": 11,
   "metadata": {
    "collapsed": true
   },
   "outputs": [],
   "source": [
    "def bitport_api_cloud(tok):\n",
    "    '''\n",
    "    This returns a top level look at your Bitport cloud content.\n",
    "    '''\n",
    "    api_url = 'https://api.bitport.io/v2/cloud'\n",
    "\n",
    "    header = {'Authorization': tok } \n",
    "\n",
    "    rr = requests.get(api_url, headers = header)\n",
    "    return rr"
   ]
  },
  {
   "cell_type": "code",
   "execution_count": 12,
   "metadata": {
    "collapsed": true
   },
   "outputs": [],
   "source": [
    "def get_a_files_download_url(tok, fcode):\n",
    "    \n",
    "    ''' \n",
    "    Take the so-called 'fileCode', which looks like this: wzskcf8bls\n",
    "    use that in the https://api.bitport.io/v2/files/<....>/stream.m3u8 url, and \n",
    "    get a result that looks like this;\n",
    "    \n",
    "    ['#EXTM3U',\n",
    "     '#EXT-X-VERSION:4',\n",
    "     '#EXT-X-TARGETDURATION:3556',\n",
    "     '#EXT-X-MEDIA-SEQUENCE:0',\n",
    "     '#EXTINF:3556',\n",
    "     'https://s04.bitport.io/download/uGDWG96J1QRpEFQnntfzsp49vbkK1oba/1',\n",
    "     '#EXT-X-ENDLIST']\n",
    "    \n",
    "    Then parse out and return just the https (url) piece.\n",
    "    \n",
    "    '''\n",
    "    \n",
    "    api_url = 'https://api.bitport.io/v2/files/' + fcode + '/stream.m3u8'\n",
    "\n",
    "    header = {'Authorization': tok } \n",
    "\n",
    "    rr = requests.get(api_url, headers = header)\n",
    "    \n",
    "    pat = r'(http.+1)\\n'\n",
    "    import re\n",
    "    found = re.search(pat, rr.text)\n",
    "    if debug: print('0=[{}]'.format(found.group(0)))\n",
    "    if debug: print('1=[{}]'.format(found.group(1)))\n",
    "\n",
    "    if debug: print('finalanswer[[[{}]]]'.format(found.group(1)[3]))\n",
    "\n",
    "    return found.group(1)"
   ]
  },
  {
   "cell_type": "code",
   "execution_count": 13,
   "metadata": {
    "collapsed": true
   },
   "outputs": [],
   "source": [
    "def get_all_download_urls(bitport_blob_obj):\n",
    "    \n",
    "    print (len(bitport_blob_obj.obj_list))\n",
    "    for jj in bitport_blob_obj.obj_list:\n",
    "\n",
    "        print('\\n\\nworking on [{}]'.format(jj.name))\n",
    "        download_url = get_a_files_download_url(bitport_blob_obj.auth_tok)\n",
    "        '''\n",
    "        The download_url should look something like this;\n",
    "        https://s04.bitport.io/download/uGDWG96J1QRpEFQnntfzsp49vbkK1oba/1\n",
    "        And undocumented Bitport feature is that there is also a .../2 url\n",
    "        which provides a smaller (more compressed) MP4 version of the same\n",
    "        file.   We regex the 1 into a 2 and store that as download_url_sm;\n",
    "        '''\n",
    "\n",
    "        download_url_sm = re.sub(r'/1$', '/2', download_url)\n",
    "        #print(\"OLD URL = \", download_url)\n",
    "\n",
    "        #print(\"NEW URL = \", download_url_sm)\n",
    "\n",
    "        jj.dictoid['download_url']    = download_url\n",
    "        jj.dictoid['download_url_sm'] = download_url_sm\n",
    "\n",
    "        pprint(jj.dictoid)"
   ]
  },
  {
   "cell_type": "code",
   "execution_count": 14,
   "metadata": {
    "collapsed": true
   },
   "outputs": [],
   "source": [
    "def get_me_info_from_api(tok):\n",
    "    '''\n",
    "    This returns a top level look at your Bitport cloud content.\n",
    "    '''\n",
    "    api_url = 'https://api.bitport.io/v2/me'\n",
    "\n",
    "    header = {'Authorization': tok } \n",
    "\n",
    "    rr = requests.get(api_url, headers = header)\n",
    "    jj = jsonify_req_obj(rr)\n",
    "    \n",
    "    return jj['data']"
   ]
  },
  {
   "cell_type": "code",
   "execution_count": 15,
   "metadata": {
    "collapsed": true
   },
   "outputs": [],
   "source": [
    "def bitport_api_get_folder(tok, dir_code):\n",
    "    api_url = 'https://api.bitport.io/v2/cloud/' + dir_code\n",
    "    header = {'Authorization': tok }\n",
    "    rr = requests.get(api_url, headers = header)\n",
    "    return rr"
   ]
  },
  {
   "cell_type": "code",
   "execution_count": 16,
   "metadata": {
    "collapsed": true
   },
   "outputs": [],
   "source": [
    "def munge_dir_req_obj(bitport_api_get_folder_results):\n",
    "\n",
    "    dstruct = jsonify_req_obj(bitport_api_get_folder_results)\n",
    "    min_size = 10000000  # sometimes a 'sample' file is included.  We want to skip it.  Size is in bytes?\n",
    "    hits = 0\n",
    "    file_url_prefix = 'https://bitport.io/my-files/file/'\n",
    "    good_video_file_urls = []\n",
    "    #pprint(dstruct)\n",
    "\n",
    "\n",
    "    #print(\"AAA\", dstruct['data'][0])\n",
    "    print(\"date=\", dstruct['data'][0]['created_at']['date'])\n",
    "    print(\"name=\", dstruct['data'][0]['name'])\n",
    "    print(\"count=\", dstruct['data'][0]['files_count'])\n",
    "    for ff in dstruct['data'][0]['files']:\n",
    "        temp_dict = {}\n",
    "        if re.search(r'^sample[.]', ff['name']) and ff['size'] < min_size:\n",
    "            if debug: print(ff['name'], 'is a small file that starts with \"sample.\", skipping...')\n",
    "        elif ff['screenshots'] == []:\n",
    "            if debug: print(ff['name'], 'has no screenshots, skipping...')\n",
    "        else:\n",
    "            hits += 1\n",
    "            ans = ff\n",
    "            if debug: print('\\tWINNER: ', ff['code'], ff['name'], ff['size'])\n",
    "            temp_dict['code'] = ff['code']\n",
    "            temp_dict['parent_folder_code'] = ff['parent_folder_code']\n",
    "            temp_dict['size'] = ff['size']\n",
    "            temp_dict['name'] = ff['name']\n",
    "            temp_dict['date'] = ff['created_at']['date']\n",
    "            temp_dict['url'] = file_url_prefix + ff['code']\n",
    "\n",
    "            \n",
    "            good_video_file_urls.append(temp_dict)\n",
    "            \n",
    "    print('munge_dir_req_obj() returning with {} items: {}'.format(hits, good_video_file_urls))       \n",
    "    return good_video_file_urls\n"
   ]
  },
  {
   "cell_type": "code",
   "execution_count": 17,
   "metadata": {
    "collapsed": true
   },
   "outputs": [],
   "source": [
    "def paint_h():\n",
    "    \n",
    "    \n",
    "    print('{:>3} {:<12} {:<90} {:>5}'.format(\n",
    "            'Row',\n",
    "            'Code', \n",
    "            'Name',\n",
    "            'Size(MB)')\n",
    "         )\n",
    "    print('{:>3} {:<12} {:<90} {:>5}'.format(\n",
    "            '=' * 3,\n",
    "            '=' * 12, \n",
    "            '=' * 82,\n",
    "            '=' * 5)\n",
    "         )"
   ]
  },
  {
   "cell_type": "code",
   "execution_count": 18,
   "metadata": {
    "collapsed": true
   },
   "outputs": [],
   "source": [
    "def paint_r(row, dictx):\n",
    "    \n",
    "    mb = 1024 * 1024\n",
    "    \n",
    "    debug = False\n",
    "    if debug: print('I am \"paint_r\", called with [{}] and [{}]'.format(row, dictx))\n",
    "    \n",
    "    print('{:>3} {:<12} {:<90} {:<5.2f}'.format(\n",
    "            row,\n",
    "            dictx['code'], \n",
    "            dictx['name'],\n",
    "            dictx['size'] / mb)\n",
    "         )"
   ]
  },
  {
   "cell_type": "code",
   "execution_count": 19,
   "metadata": {
    "collapsed": true
   },
   "outputs": [],
   "source": [
    "def figure_out_dirs( the_cloud_api_requests_object):\n",
    "    dict_list = []\n",
    "    xx = jsonify_req_obj(the_cloud_api_requests_object)\n",
    "    files_dict = xx['data'][0]['folders']\n",
    "    for file_item in files_dict:\n",
    "        if file_item['files_count'] > 0:\n",
    "\n",
    "            temp_obj = BitportDir(file_item['code'])\n",
    "\n",
    "            temp_obj.dictoid = {'name':         file_item['name'],\n",
    "                                 'size':        file_item['size'], \n",
    "                                 'files_count': file_item['files_count'], \n",
    "                                 'code':    file_item['code']  \n",
    "                                }\n",
    "\n",
    "            dict_list.append(temp_obj)\n",
    "    return dict_list\n",
    "\n",
    "\n"
   ]
  },
  {
   "cell_type": "code",
   "execution_count": 20,
   "metadata": {
    "collapsed": true
   },
   "outputs": [],
   "source": [
    "def print_top_level_choice(bpobj):\n",
    "    \n",
    "    paint_h()\n",
    "\n",
    "    for zz in range(len(bpobj.dirs)):\n",
    "        #print('line {}'.format(zz))\n",
    "        #print(bpobj.dirs[zz].dictoid)\n",
    "        paint_r(zz, bpobj.dirs[zz].dictoid)\n",
    "\n"
   ]
  },
  {
   "cell_type": "code",
   "execution_count": 21,
   "metadata": {
    "collapsed": true
   },
   "outputs": [],
   "source": [
    "def paint_dirs_files(directory_objects_file_list):\n",
    "\n",
    "    paint_h()\n",
    "    \n",
    "    debug = False\n",
    "    if debug: pprint(directory_objects_file_list)\n",
    "    \n",
    "    for item_num in range(len(directory_objects_file_list)):\n",
    "        paint_r(item_num, directory_objects_file_list[item_num])\n",
    "\n",
    "    "
   ]
  },
  {
   "cell_type": "code",
   "execution_count": 22,
   "metadata": {
    "collapsed": true
   },
   "outputs": [],
   "source": [
    "BiBo = BitportBlob('mmm')\n",
    "BiBo.auth_tok = get_auth_tok()"
   ]
  },
  {
   "cell_type": "code",
   "execution_count": 23,
   "metadata": {
    "collapsed": false
   },
   "outputs": [
    {
     "ename": "TypeError",
     "evalue": "unhashable type: 'list'",
     "output_type": "error",
     "traceback": [
      "\u001b[0;31m---------------------------------------------------------------------------\u001b[0m",
      "\u001b[0;31mTypeError\u001b[0m                                 Traceback (most recent call last)",
      "\u001b[0;32m<ipython-input-23-ec71034c1cb6>\u001b[0m in \u001b[0;36m<module>\u001b[0;34m()\u001b[0m\n\u001b[1;32m      1\u001b[0m \u001b[0muser_input\u001b[0m \u001b[0;34m=\u001b[0m \u001b[0;36m99\u001b[0m\u001b[0;34m\u001b[0m\u001b[0m\n\u001b[1;32m      2\u001b[0m \u001b[0mBiBo\u001b[0m\u001b[0;34m.\u001b[0m\u001b[0mme_info\u001b[0m \u001b[0;34m=\u001b[0m \u001b[0mget_me_info_from_api\u001b[0m\u001b[0;34m(\u001b[0m\u001b[0mBiBo\u001b[0m\u001b[0;34m.\u001b[0m\u001b[0mauth_tok\u001b[0m\u001b[0;34m)\u001b[0m\u001b[0;34m\u001b[0m\u001b[0m\n\u001b[0;32m----> 3\u001b[0;31m \u001b[0mBiBo\u001b[0m\u001b[0;34m.\u001b[0m\u001b[0mdirs\u001b[0m \u001b[0;34m=\u001b[0m \u001b[0mfigure_out_dirs\u001b[0m\u001b[0;34m(\u001b[0m\u001b[0mbitport_api_cloud\u001b[0m\u001b[0;34m(\u001b[0m\u001b[0mBiBo\u001b[0m\u001b[0;34m.\u001b[0m\u001b[0mauth_tok\u001b[0m\u001b[0;34m)\u001b[0m\u001b[0;34m)\u001b[0m\u001b[0;34m\u001b[0m\u001b[0m\n\u001b[0m\u001b[1;32m      4\u001b[0m \u001b[0mprint_top_level_choice\u001b[0m\u001b[0;34m(\u001b[0m\u001b[0mBiBo\u001b[0m\u001b[0;34m)\u001b[0m\u001b[0;34m\u001b[0m\u001b[0m\n\u001b[1;32m      5\u001b[0m \u001b[0;31m# print('#' * 100)\u001b[0m\u001b[0;34m\u001b[0m\u001b[0;34m\u001b[0m\u001b[0m\n",
      "\u001b[0;32m<ipython-input-19-bae66e8da475>\u001b[0m in \u001b[0;36mfigure_out_dirs\u001b[0;34m(the_cloud_api_requests_object)\u001b[0m\n\u001b[1;32m      6\u001b[0m         \u001b[0;32mif\u001b[0m \u001b[0mfile_item\u001b[0m\u001b[0;34m[\u001b[0m\u001b[0;34m'files_count'\u001b[0m\u001b[0;34m]\u001b[0m \u001b[0;34m>\u001b[0m \u001b[0;36m0\u001b[0m\u001b[0;34m:\u001b[0m\u001b[0;34m\u001b[0m\u001b[0m\n\u001b[1;32m      7\u001b[0m \u001b[0;34m\u001b[0m\u001b[0m\n\u001b[0;32m----> 8\u001b[0;31m             \u001b[0mtemp_obj\u001b[0m \u001b[0;34m=\u001b[0m \u001b[0mBitportDir\u001b[0m\u001b[0;34m(\u001b[0m\u001b[0mfile_item\u001b[0m\u001b[0;34m[\u001b[0m\u001b[0;34m'code'\u001b[0m\u001b[0;34m]\u001b[0m\u001b[0;34m)\u001b[0m\u001b[0;34m\u001b[0m\u001b[0m\n\u001b[0m\u001b[1;32m      9\u001b[0m \u001b[0;34m\u001b[0m\u001b[0m\n\u001b[1;32m     10\u001b[0m             temp_obj.dictoid = {'name':         file_item['name'],\n",
      "\u001b[0;32m<ipython-input-6-634273b91ac4>\u001b[0m in \u001b[0;36m__init__\u001b[0;34m(self, name)\u001b[0m\n\u001b[1;32m     12\u001b[0m         \u001b[0;31m#self.name = ''\u001b[0m\u001b[0;34m\u001b[0m\u001b[0;34m\u001b[0m\u001b[0m\n\u001b[1;32m     13\u001b[0m         \u001b[0;31m#self.count = 0\u001b[0m\u001b[0;34m\u001b[0m\u001b[0;34m\u001b[0m\u001b[0m\n\u001b[0;32m---> 14\u001b[0;31m         \u001b[0mself\u001b[0m\u001b[0;34m.\u001b[0m\u001b[0mfdict\u001b[0m \u001b[0;34m=\u001b[0m \u001b[0;34m{\u001b[0m\u001b[0;34m[\u001b[0m\u001b[0;34m]\u001b[0m\u001b[0;34m}\u001b[0m\u001b[0;34m\u001b[0m\u001b[0m\n\u001b[0m\u001b[1;32m     15\u001b[0m         \u001b[0mself\u001b[0m\u001b[0;34m.\u001b[0m\u001b[0mfact\u001b[0m \u001b[0;34m=\u001b[0m \u001b[0;34m''\u001b[0m\u001b[0;34m\u001b[0m\u001b[0m\n",
      "\u001b[0;31mTypeError\u001b[0m: unhashable type: 'list'"
     ]
    }
   ],
   "source": [
    "user_input = 99\n",
    "BiBo.me_info = get_me_info_from_api(BiBo.auth_tok)\n",
    "BiBo.dirs = figure_out_dirs(bitport_api_cloud(BiBo.auth_tok))\n",
    "print_top_level_choice(BiBo)\n",
    "# print('#' * 100)\n",
    "\n",
    "\n",
    "while user_input not in range(0,len(BiBo.dirs)):\n",
    "    user_input = int(input('Pick a number: '))\n",
    "\n",
    "dir_code = BiBo.dirs[user_input].dictoid['code']\n",
    "print(\"DIRCODE IS {}\".format(dir_code))\n",
    "print('Files from choice {}, the {} dir;\\n'.format(user_input, dir_code ))\n",
    "paint_h()\n",
    "paint_r(user_input, BiBo.dirs[user_input].dictoid)\n",
    "\n",
    "# Call API on folder -- get a requests object;\n",
    "one_dirs_requests_obj = bitport_api_get_folder(BiBo.auth_tok, dir_code)\n",
    "\n",
    "# Populate that dir object's .flist\n",
    "#a_bitport_dir_ob.flist = munge_dir_req_obj(one_dirs_requests_obj)\n",
    "tt = find_object('40p3set1sc', BiBo.dirs)\n",
    "\n",
    "tt.flist = munge_dir_req_obj(one_dirs_requests_obj) \n",
    "print(\"FUKU1\")\n",
    "#pprint(a_bitport_dir_ob.name)\n",
    "#print(\"FUKU2\")\n",
    "pprint(BitportDir(dir_code).name)\n",
    "print(\"FUKU3\")\n",
    "\n",
    "\n",
    "\n",
    "paint_dirs_files(tt.flist)\n",
    "\n",
    "user_pick_f = -1\n",
    "while user_pick_f not in range(0,len(tt.flist)):\n",
    "    user_pick_f = int(input('Pick a number: '))\n",
    "    \n",
    "\n",
    "paint_h()\n",
    "paint_r(user_pick_f, tt.flist[0])\n",
    "print('\\n\\n\\n\\n')\n",
    "print( get_a_files_download_url(BiBo.auth_tok,tt.flist[0]['code']) )\n",
    "\n",
    "tt.flist['file_code']['download_url'] = get_a_files_download_url(BiBo.auth_tok,tt.flist[0]['code'])\n"
   ]
  },
  {
   "cell_type": "code",
   "execution_count": 37,
   "metadata": {
    "collapsed": false
   },
   "outputs": [
    {
     "name": "stdout",
     "output_type": "stream",
     "text": [
      "{'code': '8yzfuvl00s',\n",
      " 'files_count': 70,\n",
      " 'name': 'Pinky and the Brain',\n",
      " 'size': 18250676353}\n",
      "{'code': 'leyun3xjvb',\n",
      " 'files_count': 7,\n",
      " 'name': 'Inception.2010.CAM.XviD-TA',\n",
      " 'size': 1522427257}\n",
      "{'code': 'waq2pompk1',\n",
      " 'files_count': 3,\n",
      " 'name': 'Game.of.Thrones.S07E02.720p.HDTV.x264-AVS[rarbg]',\n",
      " 'size': 973210831}\n",
      "{'code': '2us5qpavwq',\n",
      " 'files_count': 3,\n",
      " 'name': 'Game.of.Thrones.S07E03.1080p.WEB.h264-TBS[rarbg]',\n",
      " 'size': 1784365138}\n",
      "{'code': '40p3set1sc',\n",
      " 'files_count': 2,\n",
      " 'name': 'www.Torrenting.com  - Game.of.Thrones.S07E06.HDTV.x264.AC3-Manning',\n",
      " 'size': 1080345083}\n",
      "{'code': 'nq17okhax4',\n",
      " 'files_count': 2,\n",
      " 'name': 'www.Torrenting.com  - Game.of.Thrones.S07E06.HDTV.x264.AC3-Manning',\n",
      " 'size': 1080345083}\n",
      "{'code': '7yd1vjxluk',\n",
      " 'files_count': 3,\n",
      " 'name': 'Rick.and.Morty.S03E08.720p.HDTV.x264-BATV[rarbg]',\n",
      " 'size': 509939082}\n",
      "{'code': 'tnom1ttzfd',\n",
      " 'files_count': 2,\n",
      " 'name': 'Game.of.Thrones.S07E07.The.Dragon.and.the.Wolf.AMZN.WEBRip.DDP2.0.x264-GoT[rarbg]',\n",
      " 'size': 817559591}\n"
     ]
    }
   ],
   "source": [
    "for xx in BiBo.dirs:\n",
    "    pprint(xx.dictoid)"
   ]
  },
  {
   "cell_type": "code",
   "execution_count": 36,
   "metadata": {
    "collapsed": false
   },
   "outputs": [
    {
     "name": "stdout",
     "output_type": "stream",
     "text": [
      "[]\n",
      "[]\n",
      "[]\n",
      "[]\n",
      "[{'code': '1mqy5sohv6',\n",
      "  'date': '2017-09-20 02:42:36.000000',\n",
      "  'name': 'Game.of.Thrones.S07E07.The.Dragon.and.the.Wolf.AMZN.WEB-DL.DDP2.0.H.264-GoT.mkv',\n",
      "  'parent_folder_code': 'tnom1ttzfd',\n",
      "  'size': 817559561,\n",
      "  'url': 'https://bitport.io/my-files/file/1mqy5sohv6'}]\n",
      "[]\n",
      "[]\n",
      "[]\n"
     ]
    }
   ],
   "source": [
    "for xx in BiBo.dirs:\n",
    "    pprint(xx.flist)"
   ]
  },
  {
   "cell_type": "code",
   "execution_count": null,
   "metadata": {
    "collapsed": true
   },
   "outputs": [],
   "source": [
    "\n",
    "\n"
   ]
  }
 ],
 "metadata": {
  "kernelspec": {
   "display_name": "Python 3",
   "language": "python",
   "name": "python3"
  },
  "language_info": {
   "codemirror_mode": {
    "name": "ipython",
    "version": 3
   },
   "file_extension": ".py",
   "mimetype": "text/x-python",
   "name": "python",
   "nbconvert_exporter": "python",
   "pygments_lexer": "ipython3",
   "version": "3.5.1"
  }
 },
 "nbformat": 4,
 "nbformat_minor": 1
}

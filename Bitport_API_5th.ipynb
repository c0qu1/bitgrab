{
 "cells": [
  {
   "cell_type": "code",
   "execution_count": 1,
   "metadata": {
    "collapsed": true
   },
   "outputs": [],
   "source": [
    "import requests\n",
    "import json\n",
    "from pprint import pprint\n",
    "import os\n",
    "import re\n",
    "debug = False"
   ]
  },
  {
   "cell_type": "code",
   "execution_count": 2,
   "metadata": {
    "collapsed": true
   },
   "outputs": [],
   "source": [
    "class BitportBlob(object):\n",
    "    '''\n",
    "    The whole schmear.  All your bitport items which are also objects (BitportDirs and BitportFiles)\n",
    "    '''\n",
    "    def __init__(self, name):\n",
    "        self.obj_list = []\n",
    "        self.auth_tok = ''\n",
    "        self.me_info = {}\n",
    "        self.all_bpf_objects = {}\n",
    "        self.dirs = []\n",
    "        self.files_to_download = []\n",
    "        \n"
   ]
  },
  {
   "cell_type": "code",
   "execution_count": 3,
   "metadata": {
    "collapsed": true
   },
   "outputs": [],
   "source": [
    "class BitportDir(object):\n",
    "    '''\n",
    "    One bitport directory.\n",
    "    '''\n",
    "    instance_names = []\n",
    "\n",
    "    def __init__(self, name):\n",
    "        self.name = name\n",
    "        \n",
    "        self.dictoid = {}\n",
    "        self.date = ''\n",
    "        self.name = ''\n",
    "        self.count = 0\n",
    "        self.flist = []\n"
   ]
  },
  {
   "cell_type": "code",
   "execution_count": 4,
   "metadata": {
    "collapsed": true
   },
   "outputs": [],
   "source": [
    "class BitportFile(object):\n",
    "    '''\n",
    "    One bitport file.\n",
    "    '''\n",
    "    instance_names = []\n",
    "    fdict = {}\n",
    "    def __init__(self, name):\n",
    "        self.name = name\n",
    "        BitportFile.instance_names.append(self.name)\n",
    "        \n",
    "        self.dictoid = {}\n",
    "        \n",
    "    #def __del__(self):\n",
    "    #    print(\"deling\", self)"
   ]
  },
  {
   "cell_type": "code",
   "execution_count": 5,
   "metadata": {
    "collapsed": true
   },
   "outputs": [],
   "source": [
    "def get_secrets_from_file(bitport_dot_file = ''):\n",
    "    '''\n",
    "    Keep secret stuff in a .bitport file rather than embedded in the code.\n",
    "    This utility reads the file and returns a dict.  (or else creates the file.)\n",
    "    One arg: bitport_dot_file is optional, and defaults to ~/.bitport\n",
    "    '''\n",
    "    \n",
    "    \n",
    "    # File should contain what dummy_file_content contains (but with real info instead of <..GOES_HERE> stuff)\n",
    "    dummy_file_content = {\n",
    "      \"client_id\":\"<CLIENT_ID_GOES_HERE>\",\n",
    "      \"client_secret\": \"<CLIENT_SECRET_GOES_HERE>\",\n",
    "      \"code\": \"<CODE_GOES_HERE>\"\n",
    "    } \n",
    "    \n",
    "    if bitport_dot_file == '':\n",
    "        home_dir_path = os.path.expanduser('~')\n",
    "        bitport_dot_file = home_dir_path + '/.bitport'\n",
    "    \n",
    "    if os.path.isfile(bitport_dot_file):\n",
    "        if debug: print ('File {} already exists, reading...'.format(bitport_dot_file))\n",
    "        \n",
    "\n",
    "        try:\n",
    "            with open(bitport_dot_file,  'r') as fh:                                                             \n",
    "                mystuff = json.load(fh)  \n",
    "\n",
    "            if debug: print(\"FOUND FILE CONTENTS: [[[{}]]]\".format(mystuff))\n",
    "        except:\n",
    "            print('UHHHhhhh, problem with file ', bitport_dot_file, ' game over.')\n",
    "            \n",
    "            \n",
    "        if re.search (r'_GOES_HERE>', mystuff['code']):\n",
    "            print('Did you forget to edit the file {} ?\\n Exiting!'.format(bitport_dot_file))\n",
    "            exit('Game over')\n",
    "\n",
    "        return mystuff\n",
    "\n",
    "            \n",
    "    else:\n",
    "        print ('File {} not found.   Creating....'.format(bitport_dot_file))\n",
    "        print ('You must go edit the file: {}'.format(bitport_dot_file))\n",
    "        exit('Game over!')\n",
    "\n",
    "        with open(bitport_dot_file, 'w') as fh:                                                             \n",
    "            json.dump(dummy_file_content, fh)    \n",
    "            \n",
    "\n",
    "        return False\n",
    "            "
   ]
  },
  {
   "cell_type": "code",
   "execution_count": 6,
   "metadata": {
    "collapsed": true
   },
   "outputs": [],
   "source": [
    "def get_auth_tok(url='https://api.bitport.io/v2/oauth2/access-token'):\n",
    "    '''\n",
    "    This method does a POST to http://bitport.io/get-access to obtain the 'code' (a.k.a. USER_CODE), \n",
    "    per the Bitport doc, \"thanks to which you can get access_token\" [sic]. \n",
    "\n",
    "    Beware that the 'code' seems to change occasionally, but the old one still works. So, it may be that\n",
    "    a human needs to be logged in to a browser and hit the ./get-access site to get a new one occasionally.\n",
    "\n",
    "    The requests.post below should yield a blob containing 3 items;\n",
    "    token_type\":\"Bearer\",\"expires_in\":157766399,\"access_token\":\"eyJ0eXAiOiJKV1QiLCJhbGciO....\"\n",
    "    \n",
    "    We ony care about, (and therefore only return), the 'access_token' item.  Once we have the access_token\n",
    "    we can make API calls to do useful stuff on the Bitport site.\n",
    "    \n",
    "    For more information see the (very terse) Bitport documentation available here: https://bitport.io/api\n",
    "\n",
    "    '''\n",
    "    \n",
    "   \n",
    "    \n",
    "    dict1 = get_secrets_from_file()\n",
    "\n",
    "    payload = {'type': 'application/x-www-form-urlencoded', \n",
    "               'client_id':'?', \n",
    "               'client_secret': '?', \n",
    "               'grant_type': 'code', \n",
    "               'code': '?'} \n",
    "    \n",
    "    # We read those things from a file for a reason, they are needed in the payload;\n",
    "    # We keep them out of the distro / git repo.   They are secrets!\n",
    "    payload['client_id']     = dict1['client_id']\n",
    "    payload['client_secret'] = dict1['client_secret']\n",
    "    payload['code']          = dict1['code']\n",
    "\n",
    "    if debug: print('Payload is \\n'), pprint(payload)\n",
    "    \n",
    "    \n",
    "    r = requests.post(url, data=payload)\n",
    "    if ( r.status_code != 200 ):\n",
    "        print(\"\\n\\nPOST was a FAILURE!!   status_code = : \", r.status_code, \"\\n\\n\")\n",
    "        return False\n",
    "    else:\n",
    "        resp = json.loads(r.text)\n",
    "        return resp['access_token']\n",
    "\n",
    "  "
   ]
  },
  {
   "cell_type": "code",
   "execution_count": 7,
   "metadata": {
    "collapsed": true
   },
   "outputs": [],
   "source": [
    "def jsonify_req_obj(robj):\n",
    "    import json\n",
    "    rt = json.loads(robj.text)\n",
    "\n",
    "    return rt"
   ]
  },
  {
   "cell_type": "code",
   "execution_count": 8,
   "metadata": {
    "collapsed": true
   },
   "outputs": [],
   "source": [
    "def bitport_api_cloud(tok):\n",
    "    '''\n",
    "    This returns a top level look at your Bitport cloud content.\n",
    "    '''\n",
    "    api_url = 'https://api.bitport.io/v2/cloud'\n",
    "\n",
    "    header = {'Authorization': tok } \n",
    "\n",
    "    rr = requests.get(api_url, headers = header)\n",
    "    return rr"
   ]
  },
  {
   "cell_type": "code",
   "execution_count": 9,
   "metadata": {
    "collapsed": true
   },
   "outputs": [],
   "source": [
    "def get_a_files_download_url(tok):\n",
    "    \n",
    "    ''' \n",
    "    Take the so-called 'fileCode', which looks like this: wzskcf8bls\n",
    "    use that in the https://api.bitport.io/v2/files/<....>/stream.m3u8 url, and \n",
    "    get a result that looks like this;\n",
    "    \n",
    "    ['#EXTM3U',\n",
    "     '#EXT-X-VERSION:4',\n",
    "     '#EXT-X-TARGETDURATION:3556',\n",
    "     '#EXT-X-MEDIA-SEQUENCE:0',\n",
    "     '#EXTINF:3556',\n",
    "     'https://s04.bitport.io/download/uGDWG96J1QRpEFQnntfzsp49vbkK1oba/1',\n",
    "     '#EXT-X-ENDLIST']\n",
    "    \n",
    "    Then parse out and return just the https (url) piece.\n",
    "    \n",
    "    '''\n",
    "    \n",
    "    api_url = 'https://api.bitport.io/v2/files/wzskcf8bls/stream.m3u8'\n",
    "\n",
    "    header = {'Authorization': tok } \n",
    "\n",
    "    rr = requests.get(api_url, headers = header)\n",
    "    \n",
    "    pat = r'(http.+1)\\n'\n",
    "    import re\n",
    "    found = re.search(pat, rr.text)\n",
    "    if debug: print('0=[{}]'.format(found.group(0)))\n",
    "    if debug: print('1=[{}]'.format(found.group(1)))\n",
    "\n",
    "    if debug: print('finalanswer[[[{}]]]'.format(found.group(1)[3]))\n",
    "\n",
    "    return found.group(1)"
   ]
  },
  {
   "cell_type": "code",
   "execution_count": 10,
   "metadata": {
    "collapsed": true
   },
   "outputs": [],
   "source": [
    "def get_all_download_urls(bitport_blob_obj):\n",
    "    \n",
    "    print (len(bitport_blob_obj.obj_list))\n",
    "    for jj in bitport_blob_obj.obj_list:\n",
    "\n",
    "        print('\\n\\nworking on [{}]'.format(jj.name))\n",
    "        download_url = get_a_files_download_url(bitport_blob_obj.auth_tok)\n",
    "        '''\n",
    "        The download_url should look something like this;\n",
    "        https://s04.bitport.io/download/uGDWG96J1QRpEFQnntfzsp49vbkK1oba/1\n",
    "        And undocumented Bitport feature is that there is also a .../2 url\n",
    "        which provides a smaller (more compressed) MP4 version of the same\n",
    "        file.   We regex the 1 into a 2 and store that as download_url_sm;\n",
    "        '''\n",
    "\n",
    "        download_url_sm = re.sub(r'/1$', '/2', download_url)\n",
    "        #print(\"OLD URL = \", download_url)\n",
    "\n",
    "        #print(\"NEW URL = \", download_url_sm)\n",
    "\n",
    "        jj.dictoid['download_url']    = download_url\n",
    "        jj.dictoid['download_url_sm'] = download_url_sm\n",
    "\n",
    "        pprint(jj.dictoid)"
   ]
  },
  {
   "cell_type": "code",
   "execution_count": 11,
   "metadata": {
    "collapsed": true
   },
   "outputs": [],
   "source": [
    "def get_me_info_from_api(tok):\n",
    "    '''\n",
    "    This returns a top level look at your Bitport cloud content.\n",
    "    '''\n",
    "    api_url = 'https://api.bitport.io/v2/me'\n",
    "\n",
    "    header = {'Authorization': tok } \n",
    "\n",
    "    rr = requests.get(api_url, headers = header)\n",
    "    jj = jsonify_req_obj(rr)\n",
    "    \n",
    "    return jj['data']"
   ]
  },
  {
   "cell_type": "code",
   "execution_count": 12,
   "metadata": {
    "collapsed": true
   },
   "outputs": [],
   "source": [
    "\n",
    "\n",
    "def paint_top_folders(bitp_obj):\n",
    "    \n",
    "    for ii in range(len(bitp_obj.obj_list)):\n",
    "        paint_one_row(ii, bitp_obj)\n",
    "    \n"
   ]
  },
  {
   "cell_type": "code",
   "execution_count": 13,
   "metadata": {
    "collapsed": true
   },
   "outputs": [],
   "source": [
    "def ui(bp_obj):\n",
    "    print('\\n################# Info ##################\\n')\n",
    "    print(bp_obj.me_info)\n",
    "    print('\\n################# Top Folders ##################\\n')\n",
    "\n",
    "    paint_top_folders(bp_obj)\n",
    "    user_input = input('Pick a number:')\n",
    "    user_input = int(user_input)\n",
    "    print('You picked {}\\n'.format(user_input))\n",
    "    if debug: print('\"ui\" calling \"paint_one_row\" with [{}] and [{}]'.format(user_input, bp_obj.obj_list))\n",
    "    paint_one_row(user_input, bp_obj)"
   ]
  },
  {
   "cell_type": "code",
   "execution_count": 14,
   "metadata": {
    "collapsed": true
   },
   "outputs": [],
   "source": [
    "def bitport_api_get_folder(tok, dir_code):\n",
    "    api_url = 'https://api.bitport.io/v2/cloud/' + dir_code\n",
    "    header = {'Authorization': tok }\n",
    "    rr = requests.get(api_url, headers = header)\n",
    "    return rr"
   ]
  },
  {
   "cell_type": "code",
   "execution_count": 15,
   "metadata": {
    "collapsed": true
   },
   "outputs": [],
   "source": [
    "def parse_one_dirs_files_from_api_get_folder_results(bitport_api_get_folder_results):\n",
    "\n",
    "    dstruct = jsonify_req_obj(bitport_api_get_folder_results)\n",
    "    min_size = 10000000  # sometimes a 'sample' file is included.  We want to skip it.  Size is in bytes?\n",
    "    hits = 0\n",
    "    file_url_prefix = 'https://bitport.io/my-files/file/'\n",
    "    good_video_file_urls = []\n",
    "    #pprint(dstruct)\n",
    "\n",
    "\n",
    "    #print(\"AAA\", dstruct['data'][0])\n",
    "    print(\"date=\", dstruct['data'][0]['created_at']['date'])\n",
    "    print(\"name=\", dstruct['data'][0]['name'])\n",
    "    print(\"count=\", dstruct['data'][0]['files_count'])\n",
    "    for ff in dstruct['data'][0]['files']:\n",
    "        temp_dict = {}\n",
    "        if re.search(r'^sample[.]', ff['name']) and ff['size'] < min_size:\n",
    "            if debug: print(ff['name'], 'is a small file that starts with \"sample.\", skipping...')\n",
    "        elif ff['screenshots'] == []:\n",
    "            if debug: print(ff['name'], 'has no screenshots, skipping...')\n",
    "        else:\n",
    "            hits += 1\n",
    "            ans = ff\n",
    "            if debug: print('\\tWINNER: ', ff['code'], ff['name'], ff['size'])\n",
    "            temp_dict['code'] = ff['code']\n",
    "            temp_dict['parent_folder_code'] = ff['parent_folder_code']\n",
    "            temp_dict['size'] = ff['size']\n",
    "            temp_dict['name'] = ff['name']\n",
    "            temp_dict['date'] = ff['created_at']['date']\n",
    "            temp_dict['url'] = file_url_prefix + ff['code']\n",
    "\n",
    "            \n",
    "            good_video_file_urls.append(temp_dict)\n",
    "            \n",
    "    print('parse_one_dirs_files_from_api_get_folder_results() returning with {} items'.format(hits))       \n",
    "    return good_video_file_urls\n"
   ]
  },
  {
   "cell_type": "code",
   "execution_count": 16,
   "metadata": {
    "collapsed": true
   },
   "outputs": [],
   "source": [
    "def paint_h():\n",
    "    \n",
    "    \n",
    "    print('{:>3} {:<12} {:<90} {:>5}'.format(\n",
    "            'Row',\n",
    "            'Code', \n",
    "            'Name',\n",
    "            'Size(MB)')\n",
    "         )\n",
    "    print('{:>3} {:<12} {:<90} {:>5}'.format(\n",
    "            '=' * 3,\n",
    "            '=' * 12, \n",
    "            '=' * 82,\n",
    "            '=' * 5)\n",
    "         )"
   ]
  },
  {
   "cell_type": "code",
   "execution_count": 17,
   "metadata": {
    "collapsed": true
   },
   "outputs": [],
   "source": [
    "def paint_r(row, dictx):\n",
    "    \n",
    "    mb = 1024 * 1024\n",
    "    \n",
    "    \n",
    "    if debug: print('I am \"paint_r\", called with [{}] and [{}]'.format(row, dictx))\n",
    "    \n",
    "    print('{:>3} {:<12} {:<90} {:<5.2f}'.format(\n",
    "            row,\n",
    "            dictx['code'], \n",
    "            dictx['name'],\n",
    "            dictx['size'] / mb)\n",
    "         )"
   ]
  },
  {
   "cell_type": "code",
   "execution_count": 18,
   "metadata": {
    "collapsed": false
   },
   "outputs": [
    {
     "data": {
      "text/plain": [
       "'def main_guy():\\n    print(\"main_guy called...\")\\n    BiBo = BitportBlob(\\'mmm\\')\\n    BiBo.auth_tok = get_auth_tok()\\n    BiBo.me_info = get_me_info_from_api(BiBo.auth_tok)\\n    BiBo.process_cloud_api_requests_obj(bitport_api_cloud(BiBo.auth_tok))\\n    # ui(BiBo)\\n    \\n    thing = bitport_api_get_folder(BiBo.auth_tok)\\n    print(\\'mainguy \"thing\" is type:\\', type(thing), \\'here is contents of thing:\\')\\n    pprint(jsonify_req_obj(thing))\\n    #dstruct = json.loads(thing)\\n    print(\\'%\\' * 80)\\n    #print(\\'idiot\\')\\n    #pprint(dstruct)\\n    return thing\\n'"
      ]
     },
     "execution_count": 18,
     "metadata": {},
     "output_type": "execute_result"
    }
   ],
   "source": [
    "'''def main_guy():\n",
    "    print(\"main_guy called...\")\n",
    "    BiBo = BitportBlob('mmm')\n",
    "    BiBo.auth_tok = get_auth_tok()\n",
    "    BiBo.me_info = get_me_info_from_api(BiBo.auth_tok)\n",
    "    BiBo.process_cloud_api_requests_obj(bitport_api_cloud(BiBo.auth_tok))\n",
    "    # ui(BiBo)\n",
    "    \n",
    "    thing = bitport_api_get_folder(BiBo.auth_tok)\n",
    "    print('mainguy \"thing\" is type:', type(thing), 'here is contents of thing:')\n",
    "    pprint(jsonify_req_obj(thing))\n",
    "    #dstruct = json.loads(thing)\n",
    "    print('%' * 80)\n",
    "    #print('idiot')\n",
    "    #pprint(dstruct)\n",
    "    return thing\n",
    "''' "
   ]
  },
  {
   "cell_type": "code",
   "execution_count": 19,
   "metadata": {
    "collapsed": true
   },
   "outputs": [],
   "source": [
    "def figure_out_dirs( the_cloud_api_requests_object):\n",
    "    dict_list = []\n",
    "    xx = jsonify_req_obj(the_cloud_api_requests_object)\n",
    "    files_dict = xx['data'][0]['folders']\n",
    "    for file_item in files_dict:\n",
    "        if file_item['files_count'] > 0:\n",
    "\n",
    "            temp_obj = BitportDir(file_item['code'])\n",
    "\n",
    "            temp_obj.dictoid = {'name':         file_item['name'],\n",
    "                                 'size':        file_item['size'], \n",
    "                                 'files_count': file_item['files_count'], \n",
    "                                 'code':    file_item['code']  \n",
    "                                }\n",
    "\n",
    "            dict_list.append(temp_obj)\n",
    "    return dict_list\n",
    "\n",
    "\n"
   ]
  },
  {
   "cell_type": "code",
   "execution_count": 20,
   "metadata": {
    "collapsed": true
   },
   "outputs": [],
   "source": [
    "def print_top_level_choice(bpobj):\n",
    "    paint_h()\n",
    "\n",
    "    for zz in range(len(bpobj.dirs)):\n",
    "        #print('line {}'.format(zz))\n",
    "        #print(bpobj.dirs[zz].dictoid)\n",
    "        paint_r(zz, bpobj.dirs[zz].dictoid)\n",
    "\n"
   ]
  },
  {
   "cell_type": "code",
   "execution_count": 41,
   "metadata": {
    "collapsed": true
   },
   "outputs": [],
   "source": [
    "def paint_dirs_files(directory_objects_file_list):\n",
    "\n",
    "    paint_h()\n",
    "    for item_num in range(len(directory_objects_file_list)):\n",
    "        paint_r(item_num, directory_objects_file_list[item_num])\n",
    "\n",
    "    "
   ]
  },
  {
   "cell_type": "code",
   "execution_count": 42,
   "metadata": {
    "collapsed": true
   },
   "outputs": [],
   "source": [
    "BiBo = BitportBlob('mmm')\n",
    "BiBo.auth_tok = get_auth_tok()"
   ]
  },
  {
   "cell_type": "code",
   "execution_count": 43,
   "metadata": {
    "collapsed": false
   },
   "outputs": [
    {
     "name": "stdout",
     "output_type": "stream",
     "text": [
      "Row Code         Name                                                                                       Size(MB)\n",
      "=== ============ ==================================================================================         =====\n",
      "  0 8yzfuvl00s   Pinky and the Brain                                                                        17405.20\n",
      "  1 leyun3xjvb   Inception.2010.CAM.XviD-TA                                                                 1451.90\n",
      "  2 waq2pompk1   Game.of.Thrones.S07E02.720p.HDTV.x264-AVS[rarbg]                                           928.13\n",
      "  3 2us5qpavwq   Game.of.Thrones.S07E03.1080p.WEB.h264-TBS[rarbg]                                           1701.70\n",
      "  4 40p3set1sc   www.Torrenting.com  - Game.of.Thrones.S07E06.HDTV.x264.AC3-Manning                         1030.30\n",
      "  5 nq17okhax4   www.Torrenting.com  - Game.of.Thrones.S07E06.HDTV.x264.AC3-Manning                         1030.30\n",
      "####################################################################################################\n",
      "Pick a number: 0\n",
      "Files from choice 0, the 8yzfuvl00s dir;\n",
      "\n",
      "Row Code         Name                                                                                       Size(MB)\n",
      "=== ============ ==================================================================================         =====\n",
      "  0 8yzfuvl00s   Pinky and the Brain                                                                        17405.20\n",
      "date= 2017-07-07 16:54:05.000000\n",
      "name= Pinky and the Brain\n",
      "count= 70\n",
      "parse_one_dirs_files_from_api_get_folder_results() returning with 69 items\n",
      "Row Code         Name                                                                                       Size(MB)\n",
      "=== ============ ==================================================================================         =====\n",
      "  0 cnrdyyzwy3   Pinky And The Brain - S3E46 - Dangerous Brains.avi                                         266.34\n",
      "  1 e94evbqrkz   Animaniacs - S1E98 - Pinky And The Brain - Opportunity Knox.avi                            112.21\n",
      "  2 c4cfacrp5h   Pinky And The Brain - S3E5 - Brain Noir.avi                                                261.12\n",
      "  3 4wkov28ice   Animaniacs - S1E39 - Pinky And The Brain - Where Rodents Dare.avi                          152.03\n",
      "  4 ptj13p1iqm   Pinky And The Brain - S3E9 E10 - All You Need Is Narf, Pinky's Plan.avi                    284.46\n",
      "  5 pgtrzlr1y5   Pinky And The Brain - S3E34 E35 - Pinky At The Bat, Schpiel-Borg 2000.avi                  266.47\n",
      "  6 lsotejeosx   Pinky And The Brain - S3E36 - Broadway Malady.avi                                          271.21\n",
      "  7 n17umcud4f   Pinky And The Brain - S4E1 - Brainwashed(1) Brain, Brain, Go Away.avi                      266.89\n",
      "  8 2qzt0c6a4q   Pinky And The Brain - S3E25 - A Pinky And The Brain Halloween.avi                          279.33\n",
      "  9 yv6028n48z   Pinky And The Brain - S3E29 - But, That's Not All Folks!.avi                               261.63\n",
      " 10 z94etenqr1   Pinky And The Brain - S3E1 E2 - Leave It To Beavers, Cinebrania.avi                        265.16\n",
      " 11 pah6g0vh74   Pinky And The Brain - S3E37 E38 - The Megalomaniacal Adventures Of Brainie The Poo - The Melancholy Brain.avi 266.70\n",
      " 12 j3hyym3n07   Pinky And The Brain - S4E6 - The Pinky And The Brain Reunion Special.avi                   269.04\n",
      " 13 26gxt7zbru   Pinky And The Brain - S1E15 - Fly.avi                                                      262.66\n",
      " 14 nl7jzr04us   Pinky And The Brain - S1E1 - Das Mouse.avi                                                 262.68\n",
      " 15 w3dfhbiryo   Animaniacs - S1E2 - Pinky And The Brain - Win Big.avi                                      78.82\n",
      " 16 5e5r1xb256   Pinky And The Brain - S3E19 E20 - Pinky And The Brainmaker, Calvin Brain.avi               262.45\n",
      " 17 995x0fuq2m   Pinky And The Brain - S3E42 - The Family That Poits Together, Narfs Together.avi           267.63\n",
      " 18 nx8w674ihk   Pinky And The Brain - S4E2 - Brainwashed(2) I Am Not a Hat.avi                             270.89\n",
      " 19 z3qcie9zk2   Pinky And The Brain - S3E49 E50 E51 - The Pinky P.O.V., The Really Great Dictator, Brain Food.avi 264.40\n",
      " 20 youaldqqbi   Pinky And The Brain - S3E3 E4 - Pinky And The Brain ...And Larry, Where the Deer and the Mouselopes Play.avi 263.92\n",
      " 21 uo6wj2szbx   Pinky And The Brain - S1E10 - TV Or Not TV.avi                                             261.03\n",
      " 22 2b1nkc0vj4   Pinky And The Brain - S3E27 E28 - Leggo My Ego, Big In Japan.avi                           274.27\n",
      " 23 9kb8lrse6u   Pinky And The Brain - S3E45 - You'll Never Eat Food Pellets In This Town, Again!.avi       267.83\n",
      " 24 75odf161c5   Animaniacs - S1E15 - Pinky And The Brain - Battle for the Planet.avi                       74.19\n",
      " 25 f3k6by5hxo   Pinky And The Brain - S3E21 E22 - Pinky Suavo, T.H.E.Y.avi                                 252.28\n",
      " 26 41fuwbbe7p   Pinky And The Brain - S1E9 - Brainania.avi                                                 265.98\n",
      " 27 299n7x1oi0   Pinky And The Brain - S3E12 - Brain Storm.avi                                              264.10\n",
      " 28 7jdhxdzbsl   Pinky And The Brain - S1E3 E4 E5 - Tokyo Grows, That Smarts, Brainstem.avi                 276.59\n",
      " 29 swtu9k8wio   Pinky And The Brain - S2E4 - Plan Brain From Outer Space.avi                               257.80\n",
      " 30 yol9rt1tug   Pinky And The Brain - S2E1 - It's Only a Paper World.avi                                   254.21\n",
      " 31 5fs0k9ralt   Pinky And The Brain - S1E6 E7 E8 - Pinky And The Fog, Where No Mouse Has Gone Before, Cheese Roll Call.avi 268.93\n",
      " 32 tc4nm7j9p0   Pinky And The Brain - S3E18 - Brain Acres.avi                                              265.46\n",
      " 33 kx5kg0xm4r   Pinky And The Brain - S3E47 E48 - Whatever Happened To Baby Brain, Just Say Narf.avi       265.30\n",
      " 34 10hba474xp   Pinky And The Brain - S1E13 - Snowball.avi                                                 269.68\n",
      " 35 f1n7m7sq37   Pinky And The Brain - S3E26 - Brainy Jack.avi                                              265.52\n",
      " 36 xu6wrtry82   Pinky And The Brain - S3E43 E44 - Pinky's Turn, Your Friend Global Domination.avi          264.73\n",
      " 37 aelibu3ot4   Pinky And The Brain - S2E9 - Welcome To The Jungle.avi                                     279.22\n",
      " 38 akl5ckjezj   Pinky And The Brain - S4E9 - Star Warners.avi                                              214.67\n",
      " 39 ak4j5quaha   Pinky And The Brain - S3E39 - Inherit The Wheeze.avi                                       262.91\n",
      " 40 slz77fn7ur   Pinky And The Brain - S3E11 - This Old Mouse.avi                                           256.52\n",
      " 41 5h6ruhnqqp   Pinky And The Brain - S3E24 - Brain's Way.avi                                              266.49\n",
      " 42 cm4hnhqtgn   Pinky And The Brain - S2E5 E6 - Robin Brain, The Mummy.avi                                 270.20\n",
      " 43 c4xhlmjcsu   Pinky And The Brain - S2E10 E11 - A Little Off the Top, Megalomaniacs Anonymous.avi        246.35\n",
      " 44 f6oam7i6kh   Pinky And The Brain - S2E16 - Hoop Schemes.avi                                             264.64\n",
      " 45 16rdodtbgx   Pinky And The Brain - S3E23 - The Real Life.avi                                            277.71\n",
      " 46 e4lawhx85t   Pinky And The Brain - S2E15 - Brinky.avi                                                   264.93\n",
      " 47 qvyvuolas0   Pinky And The Brain - S4E4 E5 - To Russia With Lab Mice, Hickory Dickory Bonk.avi          264.38\n",
      " 48 vml5hbh39h   Pinky And The Brain - S4E3 - Brainwashed(3) Wash Harder.avi                                265.73\n",
      " 49 6vcgwcuuf9   Pinky And The Brain - S1E14 - Around the World in 80 Narfs.avi                             265.93\n",
      " 50 p3aovigjkn   Pinky And The Brain - S1E2 - Of Mouse and Man.avi                                          264.39\n",
      " 51 njpdps1e6b   Pinky And The Brain - S3E6 E7 - Brain's Bogie, Say What, Earth(question mark).avi          251.09\n",
      " 52 mol422qxuw   Pinky And The Brain - S1E11 - Napoleon Brainaparte.avi                                     266.50\n",
      " 53 xvzc91407v   Pinky And The Brain - S2E7 - The Pink Candidate.avi                                        267.75\n",
      " 54 i8wtfd02un   Pinky And The Brain - S1E16 E17 - Ambulatory Abe, Mouse of la Mancha.avi                   254.08\n",
      " 55 55kj3jujrh   Animaniacs - S1E18 - Pinky And The Brain - Pavlov's Mice + Animaniac's intro.avi           84.18\n",
      " 56 dntbgsl97q   Pinky And The Brain - S3E30 E31 - Operation Sea Lion, You Said A Mouseful.avi              269.13\n",
      " 57 aa9cqap33a   Pinky And The Brain - S3E16 E17 - Mice Don't Dance, Brain Drained.avi                      267.41\n",
      " 58 hqt54qi9wu   Pinky And The Brain - S2E8 - Brain's Song.avi                                              260.01\n",
      " 59 znt9mci3z4   Pinky And The Brain - S2E12 E13 - Two Mice and a Baby, The Maze.avi                        268.87\n",
      " 60 az18vve4gs   Pinky And The Brain - S3E40 E41 - Brain's Night Off - Beach Blanket Brain.avi              266.64\n",
      " 61 az05stfsqy   Pinky And The Brain - S1E18 E19 - The Third Mouse, The Visit.avi                           280.18\n",
      " 62 9ej8tav3jk   Pinky And The Brain - S3E8 - My Feldmans, My Friends.avi                                   240.32\n",
      " 63 1wk1mff72e   Pinky And The Brain - S3E15 - The Pinky Protocol.avi                                       251.41\n",
      " 64 06oih1wxtj   Pinky And The Brain - S3E32 E33 - The Tailor And The Mice, Bah, Wilderness.avi             264.41\n",
      " 65 jw66emv9bc   Pinky And The Brain - S4E7 E8 - A Legendary Tail, Project B.R.A.I.N..avi                   265.61\n",
      " 66 8s33di8lnv   Pinky And The Brain - S3E13 E14 - A Meticulous Analysis Of History, Funny, You Don't Look Rhennish.avi 264.95\n",
      " 67 z6knmonyd6   Pinky And The Brain - S2E14 - Brain Of The Future.avi                                      259.33\n",
      " 68 dj0p2tip93   Pinky And The Brain - S2E2 E3 - Collect 'Em All, Pinkasso.avi                              255.33\n"
     ]
    }
   ],
   "source": [
    "user_input = 99\n",
    "BiBo.me_info = get_me_info_from_api(BiBo.auth_tok)\n",
    "BiBo.dirs = figure_out_dirs(bitport_api_cloud(BiBo.auth_tok))\n",
    "print_top_level_choice(BiBo)\n",
    "print('#' * 100)\n",
    "\n",
    "\n",
    "while user_input not in range(0,len(BiBo.dirs)):\n",
    "    user_input = int(input('Pick a number: '))\n",
    "\n",
    "print('Files from choice {}, the {} dir;\\n'.format(user_input, BiBo.dirs[user_input].dictoid['code']))\n",
    "paint_h()\n",
    "paint_r(user_input, BiBo.dirs[user_input].dictoid)\n",
    "#thing = bitport_api_get_folder(BiBo.auth_tok, '8yzfuvl00s')\n",
    "thing = bitport_api_get_folder(BiBo.auth_tok, BiBo.dirs[user_input].dictoid['code'])\n",
    "\n",
    "a_bitport_dir_ob = BitportDir('shiiizz')\n",
    "a_bitport_dir_ob.flist = parse_one_dirs_files_from_api_get_folder_results(thing)\n",
    "paint_dirs_files(a_bitport_dir_ob.flist)"
   ]
  },
  {
   "cell_type": "code",
   "execution_count": null,
   "metadata": {
    "collapsed": true
   },
   "outputs": [],
   "source": []
  }
 ],
 "metadata": {
  "kernelspec": {
   "display_name": "Python 3",
   "language": "python",
   "name": "python3"
  },
  "language_info": {
   "codemirror_mode": {
    "name": "ipython",
    "version": 3
   },
   "file_extension": ".py",
   "mimetype": "text/x-python",
   "name": "python",
   "nbconvert_exporter": "python",
   "pygments_lexer": "ipython3",
   "version": "3.5.1"
  }
 },
 "nbformat": 4,
 "nbformat_minor": 1
}

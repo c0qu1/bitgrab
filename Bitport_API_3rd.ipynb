{
 "cells": [
  {
   "cell_type": "code",
   "execution_count": 1,
   "metadata": {
    "collapsed": true
   },
   "outputs": [],
   "source": [
    "import requests\n",
    "import json\n",
    "from pprint import pprint\n",
    "import os\n",
    "import re"
   ]
  },
  {
   "cell_type": "code",
   "execution_count": 2,
   "metadata": {
    "collapsed": true
   },
   "outputs": [],
   "source": [
    "class BitportBlob(object):\n",
    "    def __init__(self, name):\n",
    "        self.obj_list = []\n",
    "        self.auth_tok = ''\n",
    "        self.me_info = {}\n",
    "        self.all_bpf_objects = {}\n",
    "        \n",
    "    def process_cloud_api_requests_obj(self, the_cloud_api_requests_object):\n",
    "        xx = jsonify_req_obj(the_cloud_api_requests_object)\n",
    "        files_dict = xx['data'][0]['folders']\n",
    "        for file_item in files_dict:\n",
    "            if file_item['files_count'] > 0:\n",
    "\n",
    "                temp_obj = BitportFile(file_item['code'])\n",
    "                \n",
    "                temp_obj.dictoid = {'name':         file_item['name'],\n",
    "                                     'size':        file_item['size'], \n",
    "                                     'files_count': file_item['files_count'], \n",
    "                                     'dir_code':    file_item['code']  # call it dir_code cuz there is a file_code\n",
    "                                    }\n",
    "                                                              \n",
    "                self.obj_list.append(temp_obj)\n"
   ]
  },
  {
   "cell_type": "code",
   "execution_count": 3,
   "metadata": {
    "collapsed": true
   },
   "outputs": [],
   "source": [
    "class BitportFile(object):\n",
    "    instance_names = []\n",
    "    fdict = {}\n",
    "    def __init__(self, name):\n",
    "        self.name = name\n",
    "        BitportFile.instance_names.append(self.name)\n",
    "        \n",
    "        self.dictoid = {}\n",
    "        \n",
    "    def __del__(self):\n",
    "        print(\"deling\", self)"
   ]
  },
  {
   "cell_type": "code",
   "execution_count": 4,
   "metadata": {
    "collapsed": true
   },
   "outputs": [],
   "source": [
    "def get_secrets_from_file(dict1 = {}):\n",
    "    '''\n",
    "    Keep secret stuff in a .bitport file rather than embedded in the code.\n",
    "    This utility reads the file and returns a dict.  (or else creates the file.)\n",
    "    \n",
    "    File should look like this (but with real info instead of ????s;)\n",
    "    {\n",
    "      \"client_id\":\"?????\",\n",
    "      \"client_secret\": \"??????????\",\n",
    "      \"code\": \"??????\"\n",
    "    } \n",
    "    \n",
    "\n",
    "    '''\n",
    "    debug = False\n",
    "    filename = '.bitport'\n",
    "    if os.path.exists(filename):\n",
    "        if debug: print ('File {} already exists, reading...'.format(filename))\n",
    "    \n",
    "        with open(filename,  'r') as fh:                                                             \n",
    "            mystuff = json.load(fh)  \n",
    "        \n",
    "        if debug: print(\"FOUND FILE CONTENTS: [[[{}]]]\".format(mystuff))\n",
    "\n",
    "    else:\n",
    "        print ('File {} not found.   Creating....'.format(filename))\n",
    "\n",
    "        with open(filename, 'w') as fh:                                                             \n",
    "            json.dump(words, fh)    \n",
    "            \n",
    "    if debug: pprint(payload)\n",
    "\n",
    "    return mystuff\n",
    "            \n",
    "            "
   ]
  },
  {
   "cell_type": "code",
   "execution_count": 5,
   "metadata": {
    "collapsed": true
   },
   "outputs": [],
   "source": [
    "def get_auth_tok(url='https://api.bitport.io/v2/oauth2/access-token'):\n",
    "    '''\n",
    "    This method does a POST to http://bitport.io/get-access to obtain the 'code' (a.k.a. USER_CODE), \n",
    "    per the Bitport doc, \"thanks to which you can get access_token\" [sic]. \n",
    "\n",
    "    Beware that the 'code' seems to change occasionally, but the old one still works. So, it may be that\n",
    "    a human needs to be logged in to a browser and hit the ./get-access site to get a new one occasionally.\n",
    "\n",
    "    The requests.post below should yield a blob containing 3 items;\n",
    "    token_type\":\"Bearer\",\"expires_in\":157766399,\"access_token\":\"eyJ0eXAiOiJKV1QiLCJhbGciO....\"\n",
    "    \n",
    "    We ony care about, (and therefore only return), the 'access_token' item.  Once we have the access_token\n",
    "    we can make API calls to do useful stuff on the Bitport site.\n",
    "    \n",
    "    For more information see the (very terse) Bitport documentation available here: https://bitport.io/api\n",
    "\n",
    "    '''\n",
    "    \n",
    "    dict1 = get_secrets_from_file('.bitport')\n",
    "\n",
    "    payload = {'type': 'application/x-www-form-urlencoded', \n",
    "               'client_id':'?', \n",
    "               'client_secret': '?', \n",
    "               'grant_type': 'code', \n",
    "               'code': '?'} \n",
    "    \n",
    "    # We read those things from a file for a reason, they are needed in the payload;\n",
    "    # We keep them out of the distro / git repo.   They are secrets!\n",
    "    payload['client_id']     = dict1['client_id']\n",
    "    payload['client_secret'] = dict1['client_secret']\n",
    "    payload['code']          = dict1['code']\n",
    "\n",
    "\n",
    "    r = requests.post(url, data=payload)\n",
    "    if ( r.status_code != 200 ):\n",
    "        print(\"\\n\\nPOST was a FAILURE!!   status_code = : \", r.status_code, \"\\n\\n\")\n",
    "        return False\n",
    "    else:\n",
    "        resp = json.loads(r.text)\n",
    "        return resp['access_token']\n",
    "\n",
    "  "
   ]
  },
  {
   "cell_type": "code",
   "execution_count": 6,
   "metadata": {
    "collapsed": true
   },
   "outputs": [],
   "source": [
    "def jsonify_req_obj(robj):\n",
    "    import json\n",
    "    rt = json.loads(robj.text)\n",
    "\n",
    "    return rt"
   ]
  },
  {
   "cell_type": "code",
   "execution_count": 7,
   "metadata": {
    "collapsed": true
   },
   "outputs": [],
   "source": [
    "def bitport_api_cloud(tok):\n",
    "    '''\n",
    "    This returns a top level look at your Bitport cloud content.\n",
    "    '''\n",
    "    api_url = 'https://api.bitport.io/v2/cloud'\n",
    "\n",
    "    header = {'Authorization': tok } \n",
    "\n",
    "    rr = requests.get(api_url, headers = header)\n",
    "    return rr"
   ]
  },
  {
   "cell_type": "code",
   "execution_count": 8,
   "metadata": {
    "collapsed": true
   },
   "outputs": [],
   "source": [
    "def get_a_files_download_url(tok):\n",
    "    \n",
    "    ''' \n",
    "    Take the so-called 'fileCode', which looks like this: wzskcf8bls\n",
    "    use that in the https://api.bitport.io/v2/files/<....>/stream.m3u8 url, and \n",
    "    get a result that looks like this;\n",
    "    \n",
    "    ['#EXTM3U',\n",
    "     '#EXT-X-VERSION:4',\n",
    "     '#EXT-X-TARGETDURATION:3556',\n",
    "     '#EXT-X-MEDIA-SEQUENCE:0',\n",
    "     '#EXTINF:3556',\n",
    "     'https://s04.bitport.io/download/uGDWG96J1QRpEFQnntfzsp49vbkK1oba/1',\n",
    "     '#EXT-X-ENDLIST']\n",
    "    \n",
    "    Then parse out and return just the https (url) piece.\n",
    "    \n",
    "    '''\n",
    "    debug = True\n",
    "    \n",
    "    api_url = 'https://api.bitport.io/v2/files/wzskcf8bls/stream.m3u8'\n",
    "\n",
    "    header = {'Authorization': tok } \n",
    "\n",
    "    rr = requests.get(api_url, headers = header)\n",
    "    \n",
    "    pat = r'(http.+1)\\n'\n",
    "    import re\n",
    "    found = re.search(pat, rr.text)\n",
    "    if debug: print('0=[{}]'.format(found.group(0)))\n",
    "    if debug: print('1=[{}]'.format(found.group(1)))\n",
    "\n",
    "    if debug: print('finalanswer[[[{}]]]'.format(found.group(1)[3]))\n",
    "\n",
    "    return found.group(1)"
   ]
  },
  {
   "cell_type": "code",
   "execution_count": 9,
   "metadata": {
    "collapsed": true
   },
   "outputs": [],
   "source": [
    "def get_all_download_urls(bitport_blob_obj):\n",
    "    \n",
    "    print (len(bitport_blob_obj.obj_list))\n",
    "    for jj in bitport_blob_obj.obj_list:\n",
    "\n",
    "        print('\\n\\nworking on [{}]'.format(jj.name))\n",
    "        download_url = get_a_files_download_url(bitport_blob_obj.auth_tok)\n",
    "        '''\n",
    "        The download_url should look something like this;\n",
    "        https://s04.bitport.io/download/uGDWG96J1QRpEFQnntfzsp49vbkK1oba/1\n",
    "        And undocumented Bitport feature is that there is also a .../2 url\n",
    "        which provides a smaller (more compressed) MP4 version of the same\n",
    "        file.   We regex the 1 into a 2 and store that as download_url_sm;\n",
    "        '''\n",
    "\n",
    "        download_url_sm = re.sub(r'/1$', '/2', download_url)\n",
    "        #print(\"OLD URL = \", download_url)\n",
    "\n",
    "        #print(\"NEW URL = \", download_url_sm)\n",
    "\n",
    "        jj.dictoid['download_url']    = download_url\n",
    "        jj.dictoid['download_url_sm'] = download_url_sm\n",
    "\n",
    "        pprint(jj.dictoid)"
   ]
  },
  {
   "cell_type": "code",
   "execution_count": 10,
   "metadata": {
    "collapsed": true
   },
   "outputs": [],
   "source": [
    "def get_me_info_from_api(tok):\n",
    "    '''\n",
    "    This returns a top level look at your Bitport cloud content.\n",
    "    '''\n",
    "    api_url = 'https://api.bitport.io/v2/me'\n",
    "\n",
    "    header = {'Authorization': tok } \n",
    "\n",
    "    rr = requests.get(api_url, headers = header)\n",
    "    jj = jsonify_req_obj(rr)\n",
    "    \n",
    "    return jj['data']"
   ]
  },
  {
   "cell_type": "code",
   "execution_count": 11,
   "metadata": {
    "collapsed": true
   },
   "outputs": [],
   "source": [
    "def paint_one_row(row, bpo):\n",
    "        print('{:>3} {:<12} {:<62} {:>5} {:>12}'.format(\n",
    "        row,\n",
    "        bpo.obj_list[row].dictoid['dir_code'], \n",
    "        bpo.obj_list[row].dictoid['name'],\n",
    "        bpo.obj_list[row].dictoid['files_count'],\n",
    "        bpo.obj_list[row].dictoid['size'])\n",
    "             )"
   ]
  },
  {
   "cell_type": "code",
   "execution_count": 12,
   "metadata": {
    "collapsed": true
   },
   "outputs": [],
   "source": [
    "def paint_one_row_heading(row, bpo):\n",
    "    print('{:>3} {:<12} {:<62} {:>5} {:>12}'.format(\n",
    "    row,\n",
    "    bpo.obj_list[row].dictoid['dir_code'], \n",
    "    bpo.obj_list[row].dictoid['name'],\n",
    "    bpo.obj_list[row].dictoid['files_count'],\n",
    "    bpo.obj_list[row].dictoid['size'])\n",
    "         )"
   ]
  },
  {
   "cell_type": "code",
   "execution_count": 13,
   "metadata": {
    "collapsed": true
   },
   "outputs": [],
   "source": [
    "\n",
    "\n",
    "def paint_top_folders(bitp_obj):\n",
    "    \n",
    "    for ii in range(len(bitp_obj.obj_list)):\n",
    "        paint_one_row(ii, bitp_obj)\n",
    "    \n"
   ]
  },
  {
   "cell_type": "code",
   "execution_count": 14,
   "metadata": {
    "collapsed": true
   },
   "outputs": [],
   "source": [
    "def ui(bp_obj):\n",
    "    print('\\n################# Info ##################\\n')\n",
    "    print(bp_obj.me_info)\n",
    "    print('\\n################# Top Folders ##################\\n')\n",
    "\n",
    "    paint_top_folders(bp_obj)\n",
    "    user_input = input('Pick a number:')\n",
    "    user_input = int(user_input)\n",
    "    print('You picked {}\\n'.format(user_input))\n",
    "    paint_one_row(user_input, bp_obj)"
   ]
  },
  {
   "cell_type": "code",
   "execution_count": null,
   "metadata": {
    "collapsed": true
   },
   "outputs": [],
   "source": []
  },
  {
   "cell_type": "code",
   "execution_count": 15,
   "metadata": {
    "collapsed": true
   },
   "outputs": [],
   "source": [
    "def bitport_api_whole_folder(tok):\n",
    "    api_url = 'https://api.bitport.io/v2/cloud/fbjxvlav3i'\n",
    "    header = {'Authorization': tok }\n",
    "    rr = requests.get(api_url, headers = header)\n",
    "    return rr"
   ]
  },
  {
   "cell_type": "code",
   "execution_count": 16,
   "metadata": {
    "collapsed": true
   },
   "outputs": [],
   "source": [
    "def main_guy():\n",
    "    print(\"main_guy called...\")\n",
    "    BiBo = BitportBlob('mmm')\n",
    "    BiBo.auth_tok = get_auth_tok()\n",
    "    BiBo.me_info = get_me_info_from_api(BiBo.auth_tok)\n",
    "    BiBo.process_cloud_api_requests_obj(bitport_api_cloud(BiBo.auth_tok))\n",
    "    ui(BiBo)\n",
    "    \n",
    "    thing = bitport_api_whole_folder(BiBo.auth_tok)\n",
    "    print('type:', type(thing))\n",
    "    pprint(jsonify_req_obj(thing))\n",
    "    #dstruct = json.loads(thing)\n",
    "    print('%' * 80)\n",
    "    #print('idiot')\n",
    "    #pprint(dstruct)\n",
    "    return thing\n",
    "    "
   ]
  },
  {
   "cell_type": "code",
   "execution_count": 17,
   "metadata": {},
   "outputs": [
    {
     "name": "stdout",
     "output_type": "stream",
     "text": [
      "main_guy called...\n",
      "\n",
      "################# Info ##################\n",
      "\n",
      "[{'email': 'Mkurtis@gmail.com', 'plan_name': 'Small', 'plan_expiration': {'date': '2017-10-14 08:07:15.000000', 'timezone_type': 3, 'timezone': 'UTC'}, 'disk': {'size': 32212254720, 'available': 5080938506, 'used': 27131316214}}]\n",
      "\n",
      "################# Top Folders ##################\n",
      "\n",
      "  0 8yzfuvl00s   Pinky and the Brain                                               70  18250676353\n",
      "  1 leyun3xjvb   Inception.2010.CAM.XviD-TA                                         7   1522427257\n",
      "  2 waq2pompk1   Game.of.Thrones.S07E02.720p.HDTV.x264-AVS[rarbg]                   3    973210831\n",
      "  3 2us5qpavwq   Game.of.Thrones.S07E03.1080p.WEB.h264-TBS[rarbg]                   3   1784365138\n",
      "  4 40p3set1sc   www.Torrenting.com  - Game.of.Thrones.S07E06.HDTV.x264.AC3-Manning     2   1080345083\n",
      "  5 nq17okhax4   www.Torrenting.com  - Game.of.Thrones.S07E06.HDTV.x264.AC3-Manning     2   1080345083\n",
      "Pick a number:0\n",
      "You picked 0\n",
      "\n",
      "  0 8yzfuvl00s   Pinky and the Brain                                               70  18250676353\n",
      "type: <class 'requests.models.Response'>\n",
      "{'data': None,\n",
      " 'errors': [{'code': 2404, 'message': 'Folder not found'}],\n",
      " 'status': 'error'}\n",
      "%%%%%%%%%%%%%%%%%%%%%%%%%%%%%%%%%%%%%%%%%%%%%%%%%%%%%%%%%%%%%%%%%%%%%%%%%%%%%%%%\n",
      "deling <__main__.BitportFile object at 0x10ecc3358>\n",
      "deling <__main__.BitportFile object at 0x10ecc32b0>\n",
      "deling <__main__.BitportFile object at 0x10ecc3240>\n",
      "deling <__main__.BitportFile object at 0x10ecc3710>\n",
      "deling <__main__.BitportFile object at 0x10ecc31d0>\n",
      "deling <__main__.BitportFile object at 0x10ecc3fd0>\n"
     ]
    }
   ],
   "source": [
    "shit = main_guy()"
   ]
  },
  {
   "cell_type": "code",
   "execution_count": 18,
   "metadata": {},
   "outputs": [
    {
     "data": {
      "text/plain": [
       "requests.models.Response"
      ]
     },
     "execution_count": 18,
     "metadata": {},
     "output_type": "execute_result"
    }
   ],
   "source": [
    "type(shit)"
   ]
  },
  {
   "cell_type": "code",
   "execution_count": 19,
   "metadata": {},
   "outputs": [
    {
     "name": "stdout",
     "output_type": "stream",
     "text": [
      "<class 'dict'>\n",
      "{'data': None,\n",
      " 'errors': [{'code': 2404, 'message': 'Folder not found'}],\n",
      " 'status': 'error'}\n"
     ]
    }
   ],
   "source": [
    "zz = jsonify_req_obj(shit)\n",
    "print(type(zz))\n",
    "pprint(zz)"
   ]
  },
  {
   "cell_type": "code",
   "execution_count": 20,
   "metadata": {},
   "outputs": [
    {
     "ename": "TypeError",
     "evalue": "'NoneType' object is not subscriptable",
     "output_type": "error",
     "traceback": [
      "\u001b[0;31m---------------------------------------------------------------------------\u001b[0m",
      "\u001b[0;31mTypeError\u001b[0m                                 Traceback (most recent call last)",
      "\u001b[0;32m<ipython-input-20-4e8c81458834>\u001b[0m in \u001b[0;36m<module>\u001b[0;34m()\u001b[0m\n\u001b[1;32m      1\u001b[0m \u001b[0mdict_head\u001b[0m \u001b[0;34m=\u001b[0m \u001b[0;34m{\u001b[0m\u001b[0;34m}\u001b[0m\u001b[0;34m\u001b[0m\u001b[0m\n\u001b[1;32m      2\u001b[0m \u001b[0mbag_of_objects\u001b[0m \u001b[0;34m=\u001b[0m \u001b[0;34m[\u001b[0m\u001b[0;34m]\u001b[0m\u001b[0;34m\u001b[0m\u001b[0m\n\u001b[0;32m----> 3\u001b[0;31m \u001b[0;32mfor\u001b[0m \u001b[0mmm\u001b[0m \u001b[0;32min\u001b[0m \u001b[0mzz\u001b[0m\u001b[0;34m[\u001b[0m\u001b[0;34m'data'\u001b[0m\u001b[0;34m]\u001b[0m\u001b[0;34m[\u001b[0m\u001b[0;36m0\u001b[0m\u001b[0;34m]\u001b[0m\u001b[0;34m[\u001b[0m\u001b[0;34m'files'\u001b[0m\u001b[0;34m]\u001b[0m\u001b[0;34m:\u001b[0m\u001b[0;34m\u001b[0m\u001b[0m\n\u001b[0m\u001b[1;32m      4\u001b[0m     \u001b[0;31m#print('9' * 100)\u001b[0m\u001b[0;34m\u001b[0m\u001b[0;34m\u001b[0m\u001b[0m\n\u001b[1;32m      5\u001b[0m     \u001b[0;31m#pprint(mm.keys())\u001b[0m\u001b[0;34m\u001b[0m\u001b[0;34m\u001b[0m\u001b[0m\n",
      "\u001b[0;31mTypeError\u001b[0m: 'NoneType' object is not subscriptable"
     ]
    }
   ],
   "source": [
    "dict_head = {}\n",
    "bag_of_objects = []\n",
    "for mm in zz['data'][0]['files']:\n",
    "    #print('9' * 100)\n",
    "    #pprint(mm.keys())\n",
    "    #print(mm['name'])\n",
    "    \n",
    "    #print(' {:<8} {:<82} {:>5} {:>12}'.format(\n",
    "    #    1555,\n",
    "    #    mm['name'],\n",
    "    #    mm['code'],\n",
    "    #    mm['size'])\n",
    "    #)\n",
    "    dict_head[mm['code']] = {'code': mm['code'], 'name': mm['name'], 'size': mm['size']}\n",
    "    cc = BitportFile(mm['code'])\n",
    "    cc.fdict = dict_head\n",
    "    bag_of_objects.append(cc)\n",
    "\n",
    "pprint(dict_head)\n",
    "    \n",
    "#SSSSSSSSS bag_of_objects\n"
   ]
  },
  {
   "cell_type": "code",
   "execution_count": 21,
   "metadata": {},
   "outputs": [
    {
     "data": {
      "text/plain": [
       "['8yzfuvl00s',\n",
       " 'leyun3xjvb',\n",
       " 'waq2pompk1',\n",
       " '2us5qpavwq',\n",
       " '40p3set1sc',\n",
       " 'nq17okhax4']"
      ]
     },
     "execution_count": 21,
     "metadata": {},
     "output_type": "execute_result"
    }
   ],
   "source": [
    "BitportFile.instance_names"
   ]
  },
  {
   "cell_type": "code",
   "execution_count": 22,
   "metadata": {
    "collapsed": true
   },
   "outputs": [],
   "source": [
    "for xx in BitportFile.instance_names:\n",
    "    del xx\n",
    "    "
   ]
  },
  {
   "cell_type": "code",
   "execution_count": 25,
   "metadata": {
    "collapsed": true
   },
   "outputs": [],
   "source": [
    "for crap in bag_of_objects:\n",
    "    print('%' * 100)\n",
    "    pprint(crap.fdict)"
   ]
  },
  {
   "cell_type": "code",
   "execution_count": 24,
   "metadata": {},
   "outputs": [
    {
     "ename": "AttributeError",
     "evalue": "'Response' object has no attribute 'all_bpf_objects'",
     "output_type": "error",
     "traceback": [
      "\u001b[0;31m---------------------------------------------------------------------------\u001b[0m",
      "\u001b[0;31mAttributeError\u001b[0m                            Traceback (most recent call last)",
      "\u001b[0;32m<ipython-input-24-5849e2df3a86>\u001b[0m in \u001b[0;36m<module>\u001b[0;34m()\u001b[0m\n\u001b[0;32m----> 1\u001b[0;31m \u001b[0mpprint\u001b[0m\u001b[0;34m(\u001b[0m\u001b[0mshit\u001b[0m\u001b[0;34m.\u001b[0m\u001b[0mall_bpf_objects\u001b[0m\u001b[0;34m)\u001b[0m\u001b[0;34m\u001b[0m\u001b[0m\n\u001b[0m",
      "\u001b[0;31mAttributeError\u001b[0m: 'Response' object has no attribute 'all_bpf_objects'"
     ]
    }
   ],
   "source": [
    "pprint(shit.all_bpf_objects)"
   ]
  },
  {
   "cell_type": "code",
   "execution_count": null,
   "metadata": {
    "collapsed": true
   },
   "outputs": [],
   "source": []
  }
 ],
 "metadata": {
  "kernelspec": {
   "display_name": "Python 3",
   "language": "python",
   "name": "python3"
  },
  "language_info": {
   "codemirror_mode": {
    "name": "ipython",
    "version": 3
   },
   "file_extension": ".py",
   "mimetype": "text/x-python",
   "name": "python",
   "nbconvert_exporter": "python",
   "pygments_lexer": "ipython3",
   "version": "3.6.2"
  }
 },
 "nbformat": 4,
 "nbformat_minor": 2
}
